{
  "cells": [
    {
      "cell_type": "markdown",
      "metadata": {
        "id": "view-in-github",
        "colab_type": "text"
      },
      "source": [
        "<a href=\"https://colab.research.google.com/github/hqdroid222/IMERSAO_ALURA/blob/main/LIVE_ALURA.ipynb\" target=\"_parent\"><img src=\"https://colab.research.google.com/assets/colab-badge.svg\" alt=\"Open In Colab\"/></a>"
      ]
    },
    {
      "cell_type": "code",
      "execution_count": null,
      "metadata": {
        "colab": {
          "background_save": true,
          "base_uri": "https://localhost:8080/"
        },
        "id": "nIdFcJxdPPqT",
        "outputId": "55f17617-e41a-4c8e-878c-75fbe9360e87"
      },
      "outputs": [
        {
          "name": "stdout",
          "output_type": "stream",
          "text": [
            "A palavra secreta tem 5 letras -> desenvolver aplicativos escaláveis e concorrentes na jvm.\n",
            "Errou!\n",
            "Você ainda tem 5 tentativas.\n",
            "_____\n",
            "Acertou!\n",
            "___l_\n",
            "Acertou!\n",
            "s__l_\n"
          ]
        }
      ],
      "source": [
        "import requests\n",
        "import random\n",
        "\n",
        "url = 'https://raw.githubusercontent.com/guilhermeonrails/api-imersao-ia/main/words.json'\n",
        "resposta = requests.get(url)\n",
        "data = resposta.json()\n",
        "\n",
        "valor_secreto = random.choice(data)\n",
        "palavra_secreta = valor_secreto['palavra']\n",
        "dica = valor_secreto['dica']\n",
        "\n",
        "print(f'A palavra secreta tem {len(palavra_secreta)} letras -> {dica}')\n",
        "\n",
        "letras_acertadas = []\n",
        "tentativas = 6\n",
        "\n",
        "while True:\n",
        "    letra_digitada = input('Digite uma letra: ').lower()\n",
        "\n",
        "    if len(letra_digitada) > 1:\n",
        "        print('Digite apenas uma letra.')\n",
        "        continue\n",
        "\n",
        "    if letra_digitada in letras_acertadas:\n",
        "        print('Você já digitou essa letra. Tente outra.')\n",
        "        continue\n",
        "\n",
        "    letras_acertadas.append(letra_digitada)\n",
        "\n",
        "    if letra_digitada in palavra_secreta:\n",
        "        print('Acertou!')\n",
        "    else:\n",
        "        tentativas -= 1\n",
        "        print('Errou!')\n",
        "        print(f'Você ainda tem {tentativas} tentativas.')\n",
        "\n",
        "    palavra_temporaria = ''\n",
        "    for letra in palavra_secreta:\n",
        "        if letra in letras_acertadas:\n",
        "            palavra_temporaria += letra\n",
        "        else:\n",
        "            palavra_temporaria += '_'\n",
        "\n",
        "    print(palavra_temporaria)\n",
        "\n",
        "    if palavra_temporaria == palavra_secreta:\n",
        "        print('Parabéns, você ganhou!')\n",
        "        break\n",
        "\n",
        "    if tentativas == 0:\n",
        "        print('Você perdeu!')\n",
        "        print(f'A palavra secreta era {palavra_secreta}')\n",
        "        break"
      ]
    }
  ],
  "metadata": {
    "colab": {
      "provenance": [],
      "authorship_tag": "ABX9TyOTB+8NtbGyeKWDQ+1rKC/z",
      "include_colab_link": true
    },
    "kernelspec": {
      "display_name": "Python 3",
      "name": "python3"
    },
    "language_info": {
      "name": "python"
    }
  },
  "nbformat": 4,
  "nbformat_minor": 0
}